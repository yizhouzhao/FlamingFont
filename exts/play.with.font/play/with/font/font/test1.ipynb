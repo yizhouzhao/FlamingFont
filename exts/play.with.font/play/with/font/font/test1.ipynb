{
 "cells": [
  {
   "cell_type": "code",
   "execution_count": 1,
   "id": "898f9981-c4a9-4ebc-895e-3fc995254f91",
   "metadata": {},
   "outputs": [],
   "source": [
    "from font_create import MeshGenerator"
   ]
  },
  {
   "cell_type": "code",
   "execution_count": 2,
   "id": "b49c6abd-8914-4ced-9fba-a1c22a47a948",
   "metadata": {},
   "outputs": [],
   "source": [
    "mg = MeshGenerator('../fonts/LXGWClearGothic-Book.ttf', height = 48, text = \"卡\", extrude=768) # 尔直播"
   ]
  },
  {
   "cell_type": "code",
   "execution_count": 3,
   "id": "3c34a018-af56-4b40-bfdb-164acdd5aa4a",
   "metadata": {},
   "outputs": [
    {
     "name": "stdout",
     "output_type": "stream",
     "text": [
      "offset: 0\n"
     ]
    }
   ],
   "source": [
    "mg.generateMesh(mesh_file = \"test1.obj\")"
   ]
  },
  {
   "cell_type": "code",
   "execution_count": null,
   "id": "6f5051a8-c2ef-4c52-8060-0090a4e14237",
   "metadata": {},
   "outputs": [],
   "source": []
  }
 ],
 "metadata": {
  "kernelspec": {
   "display_name": "Python (rlgpu)",
   "language": "python",
   "name": "rlgpu"
  },
  "language_info": {
   "codemirror_mode": {
    "name": "ipython",
    "version": 3
   },
   "file_extension": ".py",
   "mimetype": "text/x-python",
   "name": "python",
   "nbconvert_exporter": "python",
   "pygments_lexer": "ipython3",
   "version": "3.7.12"
  }
 },
 "nbformat": 4,
 "nbformat_minor": 5
}
