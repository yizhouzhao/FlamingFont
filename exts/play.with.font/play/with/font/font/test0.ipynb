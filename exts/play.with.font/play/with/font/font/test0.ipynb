{
 "cells": [
  {
   "cell_type": "code",
   "execution_count": 1,
   "id": "a4225e14-fe73-4d74-bbb4-0a35d703cc27",
   "metadata": {},
   "outputs": [],
   "source": [
    "# !pip install triangle"
   ]
  },
  {
   "cell_type": "code",
   "execution_count": 2,
   "id": "591cd305-ef15-4f7e-9837-5c28e0ccab1e",
   "metadata": {},
   "outputs": [],
   "source": [
    "# !pip install Shapely"
   ]
  },
  {
   "cell_type": "code",
   "execution_count": 3,
   "id": "4355b1c3-d775-42e5-b286-e052f75f577f",
   "metadata": {},
   "outputs": [],
   "source": [
    "# !pip install freetype-py"
   ]
  },
  {
   "cell_type": "code",
   "execution_count": 4,
   "id": "d1e93c06-1e20-48d8-89bd-382236f736ed",
   "metadata": {},
   "outputs": [],
   "source": [
    "# !pip install geopandas, geovoronoi"
   ]
  },
  {
   "cell_type": "code",
   "execution_count": 1,
   "id": "28d0bee4-7c84-46b4-a7ac-b85c3f1f421b",
   "metadata": {},
   "outputs": [],
   "source": [
    "from freetype import *"
   ]
  },
  {
   "cell_type": "code",
   "execution_count": 2,
   "id": "55f06314-307e-456c-98a1-a013abe6a56b",
   "metadata": {},
   "outputs": [],
   "source": [
    "import numpy as np\n",
    "import matplotlib.pyplot as plt"
   ]
  },
  {
   "cell_type": "code",
   "execution_count": 3,
   "id": "3cc494c9-d606-465d-910e-371b7a1d243e",
   "metadata": {},
   "outputs": [],
   "source": [
    "height = 48"
   ]
  },
  {
   "cell_type": "code",
   "execution_count": 4,
   "id": "744b4d78-bc8e-4b40-ae7a-0fd2396a0a38",
   "metadata": {},
   "outputs": [],
   "source": [
    "face = Face('../fonts/coolveticarg.ttf')\n",
    "text = 'Hello World !'\n",
    "face.set_char_size(height << 6, height << 6, 96, 96)\n",
    "slot = face.glyph"
   ]
  },
  {
   "cell_type": "code",
   "execution_count": 53,
   "id": "6607c072-c582-451c-bd55-9fd8aa9e6e56",
   "metadata": {},
   "outputs": [],
   "source": [
    "face.load_char(\"P\")"
   ]
  },
  {
   "cell_type": "code",
   "execution_count": 54,
   "id": "9ce4b82c-2b91-44a7-ac98-413408592ad1",
   "metadata": {},
   "outputs": [],
   "source": [
    "# # First pass to compute bbox\n",
    "# width, height, baseline = 0, 0, 0\n",
    "# previous = 0\n",
    "# for i,c in enumerate(text):\n",
    "#     face.load_char(c)\n",
    "#     bitmap = slot.bitmap\n",
    "#     height = max(height,\n",
    "#                  bitmap.rows + max(0,-(slot.bitmap_top-bitmap.rows)))\n",
    "#     baseline = max(baseline, max(0,-(slot.bitmap_top-bitmap.rows)))\n",
    "#     kerning = face.get_kerning(previous, c)\n",
    "#     width += (slot.advance.x >> 6) + (kerning.x >> 6)\n",
    "#     previous = c\n",
    "\n",
    "# Z = numpy.zeros((height,width), dtype=numpy.ubyte)\n",
    "\n",
    "# # Second pass for actual rendering\n",
    "# x, y = 0, 0\n",
    "# previous = 0\n",
    "# for c in text:\n",
    "#     face.load_char(c)\n",
    "#     bitmap = slot.bitmap\n",
    "#     top = slot.bitmap_top\n",
    "#     left = slot.bitmap_left\n",
    "#     w,h = bitmap.width, bitmap.rows\n",
    "#     y = height-baseline-top\n",
    "#     kerning = face.get_kerning(previous, c)\n",
    "#     x += (kerning.x >> 6)\n",
    "#     Z[y:y+h,x:x+w] += numpy.array(bitmap.buffer, dtype='ubyte').reshape(h,w)\n",
    "#     x += (slot.advance.x >> 6)\n",
    "#     previous = c\n",
    "\n",
    "# plt.figure(figsize=(10, 10*Z.shape[0]/float(Z.shape[1])))\n",
    "# plt.imshow(Z, interpolation='nearest', origin='upper', cmap=plt.cm.gray)\n",
    "# plt.xticks([]), plt.yticks([])\n",
    "# plt.show()\n"
   ]
  },
  {
   "cell_type": "code",
   "execution_count": 55,
   "id": "db70b0ad-6901-43c6-9e63-a04d0c61fbe4",
   "metadata": {},
   "outputs": [],
   "source": [
    "from font_struct import *"
   ]
  },
  {
   "cell_type": "code",
   "execution_count": 56,
   "id": "9ca3819a-5795-4775-9dec-179125dd471d",
   "metadata": {},
   "outputs": [],
   "source": [
    "v = Vectoriser(slot.outline, bezierSteps=3, reverse=False)"
   ]
  },
  {
   "cell_type": "code",
   "execution_count": 57,
   "id": "c0913274-6ea7-4bde-9d49-e6f4270b2218",
   "metadata": {},
   "outputs": [
    {
     "data": {
      "text/plain": [
       "[array([1204, 1408]),\n",
       " array([1352.72222222, 1422.11111111]),\n",
       " array([1470.88888889, 1464.44444444]),\n",
       " array([1558.5, 1535. ]),\n",
       " array([1618.77777778, 1628.22222222]),\n",
       " array([1654.94444444, 1738.55555556]),\n",
       " array([1667, 1866]),\n",
       " array([1654.94444444, 1987.66666667]),\n",
       " array([1618.77777778, 2094.        ]),\n",
       " array([1558.5, 2185. ]),\n",
       " array([1470.88888889, 2254.44444444]),\n",
       " array([1352.72222222, 2296.11111111]),\n",
       " array([1204, 2310]),\n",
       " array([ 664, 2310]),\n",
       " array([ 664, 1408])]"
      ]
     },
     "execution_count": 57,
     "metadata": {},
     "output_type": "execute_result"
    }
   ],
   "source": [
    "v.contourList[0].pointList"
   ]
  },
  {
   "cell_type": "code",
   "execution_count": 58,
   "id": "664f0d9f-4211-475f-a8b5-124896e40d9d",
   "metadata": {},
   "outputs": [],
   "source": [
    "inner_ps = np.array(v.contourList[1].pointList)"
   ]
  },
  {
   "cell_type": "code",
   "execution_count": 59,
   "id": "b38e4a19-6512-4b27-8b27-5ba5cf6bdebc",
   "metadata": {},
   "outputs": [
    {
     "name": "stdout",
     "output_type": "stream",
     "text": [
      "False\n",
      "True\n"
     ]
    }
   ],
   "source": [
    "for contour in v.contourList:\n",
    "    print(contour.clockwise)"
   ]
  },
  {
   "cell_type": "code",
   "execution_count": 60,
   "id": "2bea8a0f-a2b4-4e64-a747-0a8f4422e003",
   "metadata": {},
   "outputs": [],
   "source": [
    "from font_util import triangulate_contour"
   ]
  },
  {
   "cell_type": "code",
   "execution_count": 61,
   "id": "1c1e8db4-dd42-4bca-8638-aeff88565052",
   "metadata": {},
   "outputs": [],
   "source": [
    "outer_contour_points = v.contourList[1].pointList\n",
    "inner_contour_points_list = [v.contourList[0].pointList]"
   ]
  },
  {
   "cell_type": "code",
   "execution_count": 62,
   "id": "3bf327ff-a270-4837-a7a9-62617492cadc",
   "metadata": {},
   "outputs": [],
   "source": [
    "B = triangulate_contour(outer_contour_points, inner_contour_points_list)"
   ]
  },
  {
   "cell_type": "code",
   "execution_count": 63,
   "id": "a5a2a45c-6cfa-425e-bcaf-aa47138c04b1",
   "metadata": {},
   "outputs": [
    {
     "data": {
      "image/png": "[encoded data removed]",
      "text/plain": [
       "<Figure size 432x216 with 2 Axes>"
      ]
     },
     "metadata": {
      "needs_background": "light"
     },
     "output_type": "display_data"
    }
   ],
   "source": [
    "import matplotlib.pyplot as plt\n",
    "import numpy as np\n",
    "\n",
    "import triangle as tr\n",
    "\n",
    "tr.compare(plt, B, B)\n",
    "plt.show()"
   ]
  },
  {
   "cell_type": "code",
   "execution_count": 66,
   "id": "87f4dcf2-ca0f-4aa7-98e6-988f916b606b",
   "metadata": {},
   "outputs": [
    {
     "data": {
      "text/plain": [
       "array([[  94.        ,    0.        ],\n",
       "       [  94.        , 2752.        ],\n",
       "       [1294.        , 2752.        ],\n",
       "       [1423.44444444, 2744.27777778],\n",
       "       [1543.77777778, 2721.11111111],\n",
       "       [1655.        , 2682.5       ],\n",
       "       [1756.61111111, 2630.05555556],\n",
       "       [1848.11111111, 2565.38888889],\n",
       "       [1929.5       , 2488.5       ],\n",
       "       [1999.94444444, 2401.        ],\n",
       "       [2058.61111111, 2304.5       ],\n",
       "       [2105.5       , 2199.        ],\n",
       "       [2139.66666667, 2086.22222222],\n",
       "       [2160.16666667, 1967.88888889],\n",
       "       [2167.        , 1844.        ],\n",
       "       [2160.16666667, 1720.38888889],\n",
       "       [2139.66666667, 1602.88888889],\n",
       "       [2105.5       , 1491.5       ],\n",
       "       [2058.61111111, 1388.33333333],\n",
       "       [1999.94444444, 1295.5       ],\n",
       "       [1929.5       , 1213.        ],\n",
       "       [1848.11111111, 1141.27777778],\n",
       "       [1756.61111111, 1080.77777778],\n",
       "       [1655.        , 1031.5       ],\n",
       "       [1543.77777778,  995.11111111],\n",
       "       [1423.44444444,  973.27777778],\n",
       "       [1294.        ,  966.        ],\n",
       "       [ 664.        ,  966.        ],\n",
       "       [ 664.        ,    0.        ],\n",
       "       [1204.        , 1408.        ],\n",
       "       [1352.72222222, 1422.11111111],\n",
       "       [1470.88888889, 1464.44444444],\n",
       "       [1558.5       , 1535.        ],\n",
       "       [1618.77777778, 1628.22222222],\n",
       "       [1654.94444444, 1738.55555556],\n",
       "       [1667.        , 1866.        ],\n",
       "       [1654.94444444, 1987.66666667],\n",
       "       [1618.77777778, 2094.        ],\n",
       "       [1558.5       , 2185.        ],\n",
       "       [1470.88888889, 2254.44444444],\n",
       "       [1352.72222222, 2296.11111111],\n",
       "       [1204.        , 2310.        ],\n",
       "       [ 664.        , 2310.        ],\n",
       "       [ 664.        , 1408.        ],\n",
       "       [1443.29510558, 1206.39410852],\n",
       "       [1796.54466777, 1447.1785902 ],\n",
       "       [1661.99207602, 2405.55291422],\n",
       "       [1441.09007846, 2511.82980002],\n",
       "       [1906.64259586, 1704.08245018],\n",
       "       [1867.97619884, 2119.44144311],\n",
       "       [1628.66571002, 1215.20177218],\n",
       "       [1830.06650805, 2336.34146313],\n",
       "       [1971.62570032, 1895.35664675],\n",
       "       [1611.83098855, 1379.1046395 ],\n",
       "       [1715.12046234, 2223.28052942],\n",
       "       [  94.        , 1376.        ]])"
      ]
     },
     "execution_count": 66,
     "metadata": {},
     "output_type": "execute_result"
    }
   ],
   "source": [
    "B[\"vertices\"]"
   ]
  },
  {
   "cell_type": "code",
   "execution_count": 68,
   "id": "2de120ce-d257-400c-86db-5eb91d4a7c0e",
   "metadata": {},
   "outputs": [
    {
     "data": {
      "text/plain": [
       "array([[ 0, 28, 27],\n",
       "       [27, 29, 43],\n",
       "       [26, 29, 27],\n",
       "       [12, 52, 13],\n",
       "       [43, 55, 27],\n",
       "       [25, 24, 44],\n",
       "       [27, 55,  0],\n",
       "       [26, 25, 44],\n",
       "       [18, 45, 19],\n",
       "       [47, 40, 39],\n",
       "       [44, 30, 29],\n",
       "       [ 7,  6, 46],\n",
       "       [30, 44, 31],\n",
       "       [50, 53, 44],\n",
       "       [10, 49, 11],\n",
       "       [32, 45, 33],\n",
       "       [44, 29, 26],\n",
       "       [15, 14, 52],\n",
       "       [44, 53, 31],\n",
       "       [ 4,  3, 47],\n",
       "       [21, 50, 22],\n",
       "       [42,  2,  1],\n",
       "       [ 2, 42, 41],\n",
       "       [41, 40, 47],\n",
       "       [46, 54, 51],\n",
       "       [ 2, 41, 47],\n",
       "       [ 1, 55, 42],\n",
       "       [51, 54, 49],\n",
       "       [24, 23, 50],\n",
       "       [16, 15, 48],\n",
       "       [39, 38, 46],\n",
       "       [47,  3,  2],\n",
       "       [39, 46, 47],\n",
       "       [ 5, 47, 46],\n",
       "       [54, 38, 37],\n",
       "       [54, 46, 38],\n",
       "       [50, 45, 53],\n",
       "       [42, 55, 43],\n",
       "       [23, 22, 50],\n",
       "       [49, 54, 37],\n",
       "       [50, 21, 45],\n",
       "       [53, 32, 31],\n",
       "       [19, 45, 20],\n",
       "       [21, 20, 45],\n",
       "       [45, 32, 53],\n",
       "       [17, 45, 18],\n",
       "       [52, 49, 36],\n",
       "       [44, 24, 50],\n",
       "       [33, 45, 48],\n",
       "       [45, 17, 48],\n",
       "       [35, 34, 48],\n",
       "       [48, 34, 33],\n",
       "       [48, 17, 16],\n",
       "       [13, 52, 14],\n",
       "       [ 7, 46, 51],\n",
       "       [52, 36, 35],\n",
       "       [47,  5,  4],\n",
       "       [ 6,  5, 46],\n",
       "       [52, 35, 48],\n",
       "       [36, 49, 37],\n",
       "       [12, 11, 49],\n",
       "       [ 9, 51, 10],\n",
       "       [51,  8,  7],\n",
       "       [51,  9,  8],\n",
       "       [52, 12, 49],\n",
       "       [15, 52, 48],\n",
       "       [10, 51, 49]], dtype=int32)"
      ]
     },
     "execution_count": 68,
     "metadata": {},
     "output_type": "execute_result"
    }
   ],
   "source": [
    "B[\"triangles\"]"
   ]
  },
  {
   "cell_type": "code",
   "execution_count": null,
   "id": "17cf544a-90ca-4818-ad11-510b4d96408d",
   "metadata": {},
   "outputs": [],
   "source": []
  },
  {
   "cell_type": "code",
   "execution_count": null,
   "id": "f1f08380-6680-4d0e-8f29-b08754bc530d",
   "metadata": {},
   "outputs": [],
   "source": []
  },
  {
   "cell_type": "code",
   "execution_count": null,
   "id": "451e112a-2ba4-4bac-98db-09acb4e34606",
   "metadata": {},
   "outputs": [],
   "source": []
  },
  {
   "cell_type": "code",
   "execution_count": 24,
   "id": "ed028e97-9250-4ac3-8e1b-d66507360d8d",
   "metadata": {},
   "outputs": [],
   "source": [
    "from shapely.geometry import Polygon\n",
    "from shapely.ops import triangulate"
   ]
  },
  {
   "cell_type": "code",
   "execution_count": 25,
   "id": "0610d21d-7d3d-4fb3-8a7e-9ab08b8d6f37",
   "metadata": {},
   "outputs": [],
   "source": [
    "polygon = Polygon(outer_contour_points, [])"
   ]
  },
  {
   "cell_type": "code",
   "execution_count": 26,
   "id": "ff75df67-da88-4446-afc4-68ad2d68d77a",
   "metadata": {},
   "outputs": [
    {
     "data": {
      "image/svg+xml": [
       "<svg xmlns=\"http://www.w3.org/2000/svg\" xmlns:xlink=\"http://www.w3.org/1999/xlink\" width=\"300\" height=\"300\" viewBox=\"-54.2 -179.2 2115.3999999999996 3110.3999999999996\" preserveAspectRatio=\"xMinYMin meet\"><g transform=\"matrix(1,0,0,-1,0,2752.0)\"><path fill-rule=\"evenodd\" fill=\"#66cc99\" stroke=\"#555555\" stroke-width=\"20.735999999999997\" opacity=\"0.6\" d=\"M 1540.0,1497.0 L 1706.0,1386.0 L 1835.0,1226.0 L 1917.0,1032.0 L 1946.0,814.0 L 1888.5,461.5 L 1714.0,182.5 L 1421.0,0.5 L 1008.0,-64.0 L 596.0,2.5 L 299.0,184.5 L 120.5,455.5 L 61.0,788.0 L 167.5,1196.5 L 487.0,1471.0 L 249.5,1726.5 L 180.0,2068.0 L 241.5,2364.0 L 413.5,2601.5 L 675.5,2759.0 L 1008.0,2816.0 L 1362.0,2759.0 L 1618.0,2604.0 L 1771.5,2373.0 L 1823.0,2085.0 L 1759.5,1742.0 L 1540.0,1497.0 z\" /></g></svg>"
      ],
      "text/plain": [
       "<shapely.geometry.polygon.Polygon at 0x7f280528e6d0>"
      ]
     },
     "execution_count": 26,
     "metadata": {},
     "output_type": "execute_result"
    }
   ],
   "source": [
    "polygon"
   ]
  },
  {
   "cell_type": "code",
   "execution_count": 70,
   "id": "e4b74516-876c-461f-8315-e8db7f809e22",
   "metadata": {},
   "outputs": [],
   "source": [
    "delauney=triangulate(polygon)"
   ]
  },
  {
   "cell_type": "code",
   "execution_count": 25,
   "id": "69e1bd78-68ee-422c-9686-d081ce673faa",
   "metadata": {},
   "outputs": [],
   "source": [
    "def triangulate_within(polygon):\n",
    "    return [triangle for triangle in triangulate(polygon) if triangle.covered_by(polygon) or triangle.within(polygon) or True]"
   ]
  },
  {
   "cell_type": "code",
   "execution_count": 26,
   "id": "52e41e51-b23d-4446-9952-50c178297109",
   "metadata": {},
   "outputs": [],
   "source": [
    "delauney = triangulate_within(polygon)"
   ]
  },
  {
   "cell_type": "code",
   "execution_count": 27,
   "id": "30b75cb6-0da9-4774-b0cc-005d4341ca34",
   "metadata": {},
   "outputs": [
    {
     "data": {
      "text/plain": [
       "124"
      ]
     },
     "execution_count": 27,
     "metadata": {},
     "output_type": "execute_result"
    }
   ],
   "source": [
    "len(delauney)"
   ]
  },
  {
   "cell_type": "code",
   "execution_count": 28,
   "id": "ce27de26-61b6-4d8b-bc0c-bcdd36570cf1",
   "metadata": {},
   "outputs": [],
   "source": [
    "triangular_vertices = list(delauney[0].exterior.coords)"
   ]
  },
  {
   "cell_type": "code",
   "execution_count": 29,
   "id": "52413dfe-c9d3-4305-a389-559c6163532f",
   "metadata": {},
   "outputs": [
    {
     "data": {
      "text/plain": [
       "[(127.0, 3200.0), (94.0, 1831.0), (758.0, 2777.0), (127.0, 3200.0)]"
      ]
     },
     "execution_count": 29,
     "metadata": {},
     "output_type": "execute_result"
    }
   ],
   "source": [
    "triangular_vertices"
   ]
  },
  {
   "cell_type": "code",
   "execution_count": 30,
   "id": "aa04dd05-287e-4ec2-9576-cbe737df6f03",
   "metadata": {},
   "outputs": [
    {
     "data": {
      "image/svg+xml": [
       "<svg xmlns=\"http://www.w3.org/2000/svg\" xmlns:xlink=\"http://www.w3.org/1999/xlink\" width=\"300\" height=\"300\" viewBox=\"-64.72 -926.72 2533.4399999999996 4285.44\" preserveAspectRatio=\"xMinYMin meet\"><g transform=\"matrix(1,0,0,-1,0,2432.0)\"><path fill-rule=\"evenodd\" fill=\"#66cc99\" stroke=\"#555555\" stroke-width=\"28.569599999999998\" opacity=\"0.6\" d=\"M 94.0,1831.0 L 127.0,3200.0 L 758.0,3200.0 L 1069.0,3121.0 L 1569.0,2511.0 L 2310.0,-356.0 L 397.0,-768.0 L 102.0,913.0 L 94.0,1831.0 z\" /></g></svg>"
      ],
      "text/plain": [
       "<shapely.geometry.polygon.Polygon at 0x7fb6b0a02f10>"
      ]
     },
     "execution_count": 30,
     "metadata": {},
     "output_type": "execute_result"
    }
   ],
   "source": [
    "from shapely.ops import unary_union\n",
    " \n",
    "unary_union(delauney)"
   ]
  },
  {
   "cell_type": "code",
   "execution_count": 31,
   "id": "1330c1d2-c397-472f-bf62-5b55b7068e63",
   "metadata": {},
   "outputs": [
    {
     "name": "stderr",
     "output_type": "stream",
     "text": [
      "/home/yizhou/miniconda3/envs/rlgpu/lib/python3.7/site-packages/ipykernel_launcher.py:12: FutureWarning: Currently, index_parts defaults to True, but in the future, it will default to False to be consistent with Pandas. Use `index_parts=True` to keep the current behavior and True/False to silence the warning.\n",
      "  if sys.path[0] == \"\":\n",
      "/home/yizhou/miniconda3/envs/rlgpu/lib/python3.7/site-packages/ipykernel_launcher.py:28: FutureWarning: Currently, index_parts defaults to True, but in the future, it will default to False to be consistent with Pandas. Use `index_parts=True` to keep the current behavior and True/False to silence the warning.\n"
     ]
    },
    {
     "data": {
      "image/png": "[encoded data removed]",
      "text/plain": [
       "<Figure size 432x288 with 1 Axes>"
      ]
     },
     "metadata": {
      "needs_background": "light"
     },
     "output_type": "display_data"
    },
    {
     "data": {
      "image/png": "[encoded data removed]",
      "text/plain": [
       "<Figure size 432x288 with 1 Axes>"
      ]
     },
     "metadata": {
      "needs_background": "light"
     },
     "output_type": "display_data"
    },
    {
     "data": {
      "image/png": "[encoded data removed]",
      "text/plain": [
       "<Figure size 432x288 with 1 Axes>"
      ]
     },
     "metadata": {
      "needs_background": "light"
     },
     "output_type": "display_data"
    }
   ],
   "source": [
    "import numpy as np\n",
    "from shapely.geometry import Polygon\n",
    "from shapely.ops import triangulate\n",
    "import shapely.wkt\n",
    "import geopandas as gpd\n",
    "from geovoronoi import voronoi_regions_from_coords\n",
    "\n",
    "def to_triangles(polygon):\n",
    "\n",
    "    poly_points = []\n",
    "\n",
    "    gdf_poly_exterior = gpd.GeoDataFrame({'geometry': [polygon.buffer(-0.0000001).exterior]}).explode().reset_index()\n",
    "    for geom in gdf_poly_exterior.geometry:\n",
    "        poly_points += np.array(geom.coords).tolist()\n",
    "\n",
    "    try:\n",
    "        polygon.interiors[0]\n",
    "    except:\n",
    "        poly_points = poly_points\n",
    "    else:\n",
    "        gdf_poly_interior = gpd.GeoDataFrame({'geometry': [polygon.interiors]}).explode().reset_index()\n",
    "        for geom in gdf_poly_interior.geometry:\n",
    "            poly_points += np.array(geom.coords).tolist()\n",
    "\n",
    "    poly_points = np.array([item for sublist in poly_points for item in sublist]).reshape(-1,2)\n",
    "\n",
    "    poly_shapes, pts = voronoi_regions_from_coords(poly_points, polygon)\n",
    "    gdf_poly_voronoi = gpd.GeoDataFrame({'geometry': poly_shapes}).explode().reset_index()\n",
    "    gdf_poly_voronoi.plot()\n",
    "\n",
    "    tri_geom = []\n",
    "    for geom in gdf_poly_voronoi.geometry:\n",
    "        inside_triangles = [tri for tri in triangulate(geom) if tri.centroid.within(polygon)]\n",
    "        tri_geom += inside_triangles\n",
    "\n",
    "    gdf_poly_triangles = gpd.GeoDataFrame({'geometry': tri_geom})\n",
    "\n",
    "    gdf_poly_exterior.plot()\n",
    "    if 'gdf_poly_interior' in locals():\n",
    "        gdf_poly_interior.plot()\n",
    "    gdf_poly_triangles.plot()\n",
    "\n",
    "polygon_1 = Polygon([(0, 0), (0, 3), (5, 3), (2, 4), (6, 4), (6, 0)])\n",
    "polygon_2 = Polygon([(3.0, 0.0), (2.0, 0.0), (2.0, 0.75), (2.5, 0.75), (2.5, 0.6), (2.25, 0.6), (2.25, 0.2), (3.0, 0.2), (3.0, 0.0)])\n",
    "poly_3_wkt = 'POLYGON ((-74.05644319847762 4.664371152795165, -74.05701264773319 4.663503533579181, -74.05770573357918 4.662810447733186, -74.05896428283818 4.662056102337443, -74.05990224838993 4.661771573597983, -74.06224145161008 4.661772473597984, -74.06317941716183 4.662057002337444, -74.06443796642083 4.662811347733187, -74.06572065226682 4.664052233579182, -74.06921901369725 4.668360960588712, -74.07141674761461 4.670691972117472, -74.07635895116509 4.673818151938486, -74.07894493390593 4.675834266094067, -74.08192435226682 4.679424333579181, -74.08891615226682 4.688383433579182, -74.08958587724112 4.689463067989243, -74.09086467349047 4.690719228823506, -74.09790275116509 4.694460551938487, -74.10034036642082 4.696114147733187, -74.10386724657296 4.698958762835078, -74.10814346936803 4.700870863662334, -74.10930545161006 4.700957773597984, -74.11043741716183 4.701320402337444, -74.11139045116509 4.701828051938487, -74.11214813390593 4.702449866094067, -74.11445885226682 4.704984433579183, -74.11521319766256 4.706242982838176, -74.11590442640203 4.70845234838992, -74.11611382363337 4.710865185701647, -74.11554750632175 4.71273208368413, -74.11467343390593 4.713910633905932, -74.11305131716183 4.714994497662556, -74.11211335161008 4.715279026402015, -74.11073328554708 4.715355222566556, -74.11041129766257 4.716545717161825, -74.1094660522668 4.718057466420818, -74.10756213390592 4.720161033905933, -74.10568445116508 4.721873348061513, -74.10420772338625 4.722584201678661, -74.10275629999998 4.7227995, -74.10130487661371 4.722584201678661, -74.09995094883489 4.721945648061514, -74.09403374773316 4.716245366420819, -74.09338219367824 4.71525808368413, -74.09288787359796 4.71387655161008, -74.09288787359796 4.711925648389919, -74.0936469519385 4.710096948834901, -74.09548963357916 4.708043347733187, -74.09763068874044 4.70677727898599, -74.09460666784895 4.704312469919607, -74.09203589291714 4.702595752799392, -74.08765371631586 4.700417706321742, -74.08459603357916 4.698508252266813, -74.08273894773316 4.696641066420818, -74.08206922275886 4.695561432010757, -74.08118604773318 4.694727366420818, -74.0717936025263 4.682825210334004, -74.06562484883489 4.678834648061513, -74.06390001213198 4.677314420684328, -74.0535710885149 4.739037649974117, -74.05520778283815 4.737937702337444, -74.05712119999998 4.7375571, -74.06045152338628 4.738003698321339, -74.06217206642083 4.738923347733187, -74.06340970632175 4.74043141631587, -74.06393542640203 4.74187004838992, -74.06400742363337 4.743335585701648, -74.063537026402 4.74698295161008, -74.06279044806149 4.748785351165098, -74.06139073691359 4.75018144712255, -74.0609743487264 4.751890490745711, -74.06128649999999 4.753612599999999, -74.06107120167866 4.755064023386272, -74.06039964806149 4.756487551165098, -74.0594142664208 4.757574752266813, -74.05806621716184 4.758372197662556, -74.05615280000001 4.7587528, -74.05377854838993 4.758482026402016, -74.0507277649826 4.757844764394359, -74.05055722640202 4.75945045161008, -74.04983964400328 4.762451751932777, -74.04873032640204 4.76925805161008, -74.04829449766255 4.770818617161826, -74.04766074258318 4.772140089033794, -74.04726809766255 4.773711517161825, -74.04651375226682 4.774970066420818, -74.04542655116509 4.775955448061513, -74.04410012338627 4.776582801678661, -74.04215861429836 4.776774023633361, -74.04029171631588 4.776207706321742, -74.03878364773318 4.774970066420818, -74.03800540233745 4.773666917161825, -74.03729177636662 4.771281485701648, -74.03727967636664 4.770004014298352, -74.03747549832134 4.769002476613728, -74.03843161386389 4.767199327773277, -74.04047532279198 4.75512284897233, -74.0369408023945 4.754256982815782, -74.03025007661371 4.753148101678661, -74.02876484883491 4.752415548061514, -74.02767764773319 4.751430166420819, -74.02692330233745 4.750171617161826, -74.02654087636664 4.748620285701648, -74.02683367636664 4.736912214298353, -74.02739999367826 4.73504531631587, -74.02863763357918 4.733537247733187, -74.03035817661373 4.732617598321339, -74.03229968570164 4.732426376366639, -74.03372301716183 4.732782902337444, -74.03534513390593 4.733866766094067, -74.03621920632175 4.73504531631587, -74.03676491551958 4.736773285680133, -74.04355019487681 4.738452884397855, -74.04767016881966 4.714185707761746, -74.04885077359798 4.706409648389919, -74.05027314410287 4.698677293675041, -74.05045487359796 4.696561148389919, -74.05077748485968 4.695365046361829, -74.05289107166563 4.682999393176747, -74.05422957359798 4.67404324838992, -74.05473458359565 4.671889824337649, -74.05543207359798 4.667273848389919, -74.05644319847762 4.664371152795165))'\n",
    "polygon_3 = shapely.wkt.loads(poly_3_wkt)\n",
    "poly_4_wkt = 'Polygon ((22.11315279161000547 -25.09231820047121886, 21.62718174901616663 -26.2204652636354929, 22.01769419395764515 -27.5308514677724574, 23.33675845242663982 -28.13831527101475416, 24.77731547154409597 -27.47010508744822488, 24.86409601486442256 -26.98413404485438605, 23.92686614700487624 -26.97545599052235232, 24.55168605891124045 -26.38534829594411946, 25.86207226304820495 -26.14236277464719649, 26.1918383276654545 -26.70643630622933529, 25.92281864337243391 -27.30522205513960188, 26.69516547892335723 -26.88867544720202218, 26.75591185924758975 -26.19443110063939528, 25.93149669770446764 -25.73449422104165407, 25.51495008976689149 -25.98615779667060366, 25.14179375348947687 -25.69978200371352273, 24.68185687389173566 -25.25720123277984541, 23.85744171234861355 -26.09029444865500125, 23.71859284303608462 -26.81925101254575949, 22.81607519250466964 -26.2204652636354929, 23.26733401777037713 -25.343981776100172, 23.17187542011801682 -24.90140100516649824, 22.77268492084450457 -24.55427883188518123, 22.11315279161000547 -25.09231820047121886),(22.46027496489132247 -25.79524060136588304, 22.01769419395764515 -26.19443110063939528, 22.2172894435943995 -26.38534829594411946, 22.45159691055928874 -26.48948494792850994, 22.55573356254368278 -26.53287521958867501, 22.49498718221945381 -26.75850463222153053, 22.92021184448906368 -26.68908019756526784, 22.33010414991082726 -26.32460191561988694, 22.5817677255397804 -26.02087001399873856, 22.93756795315312758 -25.3786939934283069, 22.81607519250466964 -25.343981776100172, 22.46027496489132247 -25.79524060136588304),(23.10245098546175413 -27.53952952210448757, 22.54705550821164906 -27.47010508744822488, 22.81607519250466964 -27.05355847951064874, 23.64049035404779175 -27.17505124015910667, 23.692558680039987 -27.59159784809668636, 23.18055347445005054 -27.85193947805767323, 23.10245098546175413 -27.53952952210448757),(24.24795415729009207 -26.20310915497142901, 24.36076886360651983 -25.94276752501044214, 24.70789103688783328 -25.95144557934247587, 24.81202768887222732 -25.95144557934247587, 24.77731547154409597 -25.78656254703384931, 25.0810473731652479 -25.91673336201434097, 25.07236931883321418 -26.10765055731906514, 24.65582271089563449 -26.15104082897923021, 24.34341275494245238 -26.38534829594411946, 24.24795415729009207 -26.20310915497142901))'\n",
    "polygon_4 = shapely.wkt.loads(poly_4_wkt)\n",
    "\n",
    "to_triangles(polygon_2)"
   ]
  },
  {
   "cell_type": "code",
   "execution_count": 17,
   "id": "4aebff62-9da6-4ffa-8247-301277f14c1c",
   "metadata": {},
   "outputs": [
    {
     "name": "stderr",
     "output_type": "stream",
     "text": [
      "/home/yizhou/miniconda3/envs/rlgpu/lib/python3.7/site-packages/ipykernel_launcher.py:12: FutureWarning: Currently, index_parts defaults to True, but in the future, it will default to False to be consistent with Pandas. Use `index_parts=True` to keep the current behavior and True/False to silence the warning.\n",
      "  if sys.path[0] == \"\":\n",
      "/home/yizhou/miniconda3/envs/rlgpu/lib/python3.7/site-packages/ipykernel_launcher.py:28: FutureWarning: Currently, index_parts defaults to True, but in the future, it will default to False to be consistent with Pandas. Use `index_parts=True` to keep the current behavior and True/False to silence the warning.\n"
     ]
    },
    {
     "data": {
      "image/png": "[encoded data removed]",
      "text/plain": [
       "<Figure size 432x288 with 1 Axes>"
      ]
     },
     "metadata": {
      "needs_background": "light"
     },
     "output_type": "display_data"
    },
    {
     "data": {
      "image/png": "[encoded data removed]",
      "text/plain": [
       "<Figure size 432x288 with 1 Axes>"
      ]
     },
     "metadata": {
      "needs_background": "light"
     },
     "output_type": "display_data"
    },
    {
     "data": {
      "image/png": "[encoded data removed]",
      "text/plain": [
       "<Figure size 432x288 with 1 Axes>"
      ]
     },
     "metadata": {
      "needs_background": "light"
     },
     "output_type": "display_data"
    },
    {
     "data": {
      "image/png": "[encoded data removed]",
      "text/plain": [
       "<Figure size 432x288 with 1 Axes>"
      ]
     },
     "metadata": {
      "needs_background": "light"
     },
     "output_type": "display_data"
    }
   ],
   "source": [
    "to_triangles(polygon)"
   ]
  },
  {
   "cell_type": "code",
   "execution_count": 57,
   "id": "ff098f25-2fb2-4b42-b1f6-cee038bede94",
   "metadata": {},
   "outputs": [
    {
     "data": {
      "image/png": "[encoded data removed]",
      "text/plain": [
       "<Figure size 432x216 with 2 Axes>"
      ]
     },
     "metadata": {
      "needs_background": "light"
     },
     "output_type": "display_data"
    }
   ],
   "source": [
    "import matplotlib.pyplot as plt\n",
    "import numpy as np\n",
    "\n",
    "import triangle as tr\n",
    "\n",
    "\n",
    "def circle(N, R):\n",
    "    i = np.arange(N)\n",
    "    theta = i * 2 * np.pi / N\n",
    "    pts = np.stack([np.cos(theta), np.sin(theta)], axis=1) * R\n",
    "    seg = np.stack([i, i + 1], axis=1) % N\n",
    "    return pts, seg\n",
    "\n",
    "\n",
    "pts0, seg0 = circle(6, 1.4)\n",
    "pts1, seg1 = circle(5, 0.6)\n",
    "pts = np.vstack([pts0, pts1])\n",
    "seg = np.vstack([seg0, seg1 + seg0.shape[0]])\n",
    "\n",
    "A = dict(vertices=pts, segments=seg, holes=[[0,0.5]])\n",
    "B = tr.triangulate(A, 'qpa')\n",
    "tr.compare(plt, A, B)\n",
    "plt.show()"
   ]
  },
  {
   "cell_type": "code",
   "execution_count": 96,
   "id": "08697543-0a37-4499-8956-db1836dc5d9f",
   "metadata": {},
   "outputs": [
    {
     "data": {
      "text/plain": [
       "[1]"
      ]
     },
     "execution_count": 96,
     "metadata": {},
     "output_type": "execute_result"
    }
   ],
   "source": [
    "[1] + []"
   ]
  },
  {
   "cell_type": "code",
   "execution_count": 94,
   "id": "551a1fe2-660f-47bc-ad48-471d07a0832e",
   "metadata": {},
   "outputs": [
    {
     "data": {
      "text/plain": [
       "array([-2.01858732e-17,  5.04646829e-17])"
      ]
     },
     "execution_count": 94,
     "metadata": {},
     "output_type": "execute_result"
    }
   ],
   "source": [
    "np.mean(pts, axis = 0)"
   ]
  },
  {
   "cell_type": "code",
   "execution_count": 92,
   "id": "17df9605-bc0d-4c5f-b7e5-2da1dd56935a",
   "metadata": {},
   "outputs": [
    {
     "data": {
      "text/plain": [
       "array([[0, 1],\n",
       "       [1, 2],\n",
       "       [2, 3],\n",
       "       [3, 4],\n",
       "       [4, 5],\n",
       "       [5, 0]])"
      ]
     },
     "execution_count": 92,
     "metadata": {},
     "output_type": "execute_result"
    }
   ],
   "source": [
    "seg0"
   ]
  },
  {
   "cell_type": "code",
   "execution_count": 91,
   "id": "03ab7001-1495-4587-934c-aa5f022f5df4",
   "metadata": {},
   "outputs": [
    {
     "ename": "ValueError",
     "evalue": "all the input array dimensions for the concatenation axis must match exactly, but along dimension 1, the array at index 0 has size 2 and the array at index 1 has size 0",
     "output_type": "error",
     "traceback": [
      "\u001b[0;31m---------------------------------------------------------------------------\u001b[0m",
      "\u001b[0;31mValueError\u001b[0m                                Traceback (most recent call last)",
      "\u001b[0;32m/tmp/ipykernel_47919/3389175368.py\u001b[0m in \u001b[0;36m<module>\u001b[0;34m\u001b[0m\n\u001b[0;32m----> 1\u001b[0;31m \u001b[0mnp\u001b[0m\u001b[0;34m.\u001b[0m\u001b[0mvstack\u001b[0m\u001b[0;34m(\u001b[0m\u001b[0;34m[\u001b[0m\u001b[0mseg0\u001b[0m\u001b[0;34m,\u001b[0m \u001b[0;34m[\u001b[0m\u001b[0;34m]\u001b[0m\u001b[0;34m]\u001b[0m\u001b[0;34m)\u001b[0m\u001b[0;34m\u001b[0m\u001b[0;34m\u001b[0m\u001b[0m\n\u001b[0m",
      "\u001b[0;32m<__array_function__ internals>\u001b[0m in \u001b[0;36mvstack\u001b[0;34m(*args, **kwargs)\u001b[0m\n",
      "\u001b[0;32m~/miniconda3/envs/rlgpu/lib/python3.7/site-packages/numpy/core/shape_base.py\u001b[0m in \u001b[0;36mvstack\u001b[0;34m(tup)\u001b[0m\n\u001b[1;32m    280\u001b[0m     \u001b[0;32mif\u001b[0m \u001b[0;32mnot\u001b[0m \u001b[0misinstance\u001b[0m\u001b[0;34m(\u001b[0m\u001b[0marrs\u001b[0m\u001b[0;34m,\u001b[0m \u001b[0mlist\u001b[0m\u001b[0;34m)\u001b[0m\u001b[0;34m:\u001b[0m\u001b[0;34m\u001b[0m\u001b[0;34m\u001b[0m\u001b[0m\n\u001b[1;32m    281\u001b[0m         \u001b[0marrs\u001b[0m \u001b[0;34m=\u001b[0m \u001b[0;34m[\u001b[0m\u001b[0marrs\u001b[0m\u001b[0;34m]\u001b[0m\u001b[0;34m\u001b[0m\u001b[0;34m\u001b[0m\u001b[0m\n\u001b[0;32m--> 282\u001b[0;31m     \u001b[0;32mreturn\u001b[0m \u001b[0m_nx\u001b[0m\u001b[0;34m.\u001b[0m\u001b[0mconcatenate\u001b[0m\u001b[0;34m(\u001b[0m\u001b[0marrs\u001b[0m\u001b[0;34m,\u001b[0m \u001b[0;36m0\u001b[0m\u001b[0;34m)\u001b[0m\u001b[0;34m\u001b[0m\u001b[0;34m\u001b[0m\u001b[0m\n\u001b[0m\u001b[1;32m    283\u001b[0m \u001b[0;34m\u001b[0m\u001b[0m\n\u001b[1;32m    284\u001b[0m \u001b[0;34m\u001b[0m\u001b[0m\n",
      "\u001b[0;32m<__array_function__ internals>\u001b[0m in \u001b[0;36mconcatenate\u001b[0;34m(*args, **kwargs)\u001b[0m\n",
      "\u001b[0;31mValueError\u001b[0m: all the input array dimensions for the concatenation axis must match exactly, but along dimension 1, the array at index 0 has size 2 and the array at index 1 has size 0"
     ]
    }
   ],
   "source": [
    "np.vstack([seg0, []])"
   ]
  },
  {
   "cell_type": "code",
   "execution_count": 89,
   "id": "e2fa168f-005d-4d04-9220-011a9b0f33a4",
   "metadata": {},
   "outputs": [
    {
     "data": {
      "text/plain": [
       "{'vertices': array([[ 1.40000000e+00,  0.00000000e+00],\n",
       "        [ 7.00000000e-01,  1.21243557e+00],\n",
       "        [-7.00000000e-01,  1.21243557e+00],\n",
       "        [-1.40000000e+00,  1.71450552e-16],\n",
       "        [-7.00000000e-01, -1.21243557e+00],\n",
       "        [ 7.00000000e-01, -1.21243557e+00],\n",
       "        [ 6.00000000e-01,  0.00000000e+00],\n",
       "        [ 1.85410197e-01,  5.70633910e-01],\n",
       "        [-4.85410197e-01,  3.52671151e-01],\n",
       "        [-4.85410197e-01, -3.52671151e-01],\n",
       "        [ 1.85410197e-01, -5.70633910e-01]]),\n",
       " 'segments': array([[ 0,  1],\n",
       "        [ 1,  2],\n",
       "        [ 2,  3],\n",
       "        [ 3,  4],\n",
       "        [ 4,  5],\n",
       "        [ 5,  0],\n",
       "        [ 6,  7],\n",
       "        [ 7,  8],\n",
       "        [ 8,  9],\n",
       "        [ 9, 10],\n",
       "        [10,  6]]),\n",
       " 'holes': [[0, 0.5]]}"
      ]
     },
     "execution_count": 89,
     "metadata": {},
     "output_type": "execute_result"
    }
   ],
   "source": [
    "A"
   ]
  },
  {
   "cell_type": "code",
   "execution_count": 88,
   "id": "1bd46c8d-3ddd-46a4-a8fa-2989649b3edf",
   "metadata": {},
   "outputs": [
    {
     "data": {
      "text/plain": [
       "array([[ 1.40000000e+00,  0.00000000e+00],\n",
       "       [ 7.00000000e-01,  1.21243557e+00],\n",
       "       [-7.00000000e-01,  1.21243557e+00],\n",
       "       [-1.40000000e+00,  1.71450552e-16],\n",
       "       [-7.00000000e-01, -1.21243557e+00],\n",
       "       [ 7.00000000e-01, -1.21243557e+00],\n",
       "       [ 6.00000000e-01,  0.00000000e+00],\n",
       "       [ 1.85410197e-01,  5.70633910e-01],\n",
       "       [-4.85410197e-01,  3.52671151e-01],\n",
       "       [-4.85410197e-01, -3.52671151e-01],\n",
       "       [ 1.85410197e-01, -5.70633910e-01]])"
      ]
     },
     "execution_count": 88,
     "metadata": {},
     "output_type": "execute_result"
    }
   ],
   "source": [
    "B['vertices']"
   ]
  },
  {
   "cell_type": "code",
   "execution_count": 54,
   "id": "5dedbc06-8847-44b5-b5a9-42969d0b1619",
   "metadata": {},
   "outputs": [
    {
     "data": {
      "text/plain": [
       "[[0.6, 0.0],\n",
       " [0.18541019662496847, 0.570633909777092],\n",
       " [-0.48541019662496837, 0.35267115137548394],\n",
       " [-0.48541019662496854, -0.3526711513754838],\n",
       " [0.18541019662496833, -0.5706339097770922]]"
      ]
     },
     "execution_count": 54,
     "metadata": {},
     "output_type": "execute_result"
    }
   ],
   "source": [
    "pts1.tolist()"
   ]
  },
  {
   "cell_type": "code",
   "execution_count": 36,
   "id": "42d685b3-55e5-4987-a267-59ac7a70199b",
   "metadata": {},
   "outputs": [
    {
     "data": {
      "text/plain": [
       "array([[ 0,  1],\n",
       "       [ 1,  2],\n",
       "       [ 2,  3],\n",
       "       [ 3,  4],\n",
       "       [ 4,  5],\n",
       "       [ 5,  6],\n",
       "       [ 6,  7],\n",
       "       [ 7,  8],\n",
       "       [ 8,  9],\n",
       "       [ 9, 10],\n",
       "       [10, 11],\n",
       "       [11, 12],\n",
       "       [12, 13],\n",
       "       [13, 14],\n",
       "       [14, 15],\n",
       "       [15, 16],\n",
       "       [16, 17],\n",
       "       [17, 18],\n",
       "       [18, 19],\n",
       "       [19, 20],\n",
       "       [20, 21],\n",
       "       [21, 22],\n",
       "       [22, 23],\n",
       "       [23, 24],\n",
       "       [24, 25],\n",
       "       [25, 26],\n",
       "       [26, 27],\n",
       "       [27, 28],\n",
       "       [28, 29],\n",
       "       [29,  0],\n",
       "       [30, 31],\n",
       "       [31, 32],\n",
       "       [32, 33],\n",
       "       [33, 34],\n",
       "       [34, 35],\n",
       "       [35, 36],\n",
       "       [36, 37],\n",
       "       [37, 38],\n",
       "       [38, 39],\n",
       "       [39, 40],\n",
       "       [40, 41],\n",
       "       [41, 42],\n",
       "       [42, 43],\n",
       "       [43, 44],\n",
       "       [44, 45],\n",
       "       [45, 30]])"
      ]
     },
     "execution_count": 36,
     "metadata": {},
     "output_type": "execute_result"
    }
   ],
   "source": [
    "seg"
   ]
  },
  {
   "cell_type": "markdown",
   "id": "84702de0-a8f7-4dff-8645-f38f588b51a1",
   "metadata": {
    "tags": []
   },
   "source": [
    "# ------------"
   ]
  },
  {
   "cell_type": "code",
   "execution_count": 23,
   "id": "77206d70-097d-45dc-819f-3a095cd41f19",
   "metadata": {},
   "outputs": [],
   "source": [
    "extrude = 16\n",
    "bevelRadius = 2.4\n",
    "bevelSegments = 4"
   ]
  },
  {
   "cell_type": "code",
   "execution_count": 24,
   "id": "007579f2-095b-4c92-bef9-1f136e49fbeb",
   "metadata": {},
   "outputs": [],
   "source": [
    "mesh = Mesh()"
   ]
  },
  {
   "cell_type": "code",
   "execution_count": 25,
   "id": "a48e7fec-7306-4177-81cb-fbda2454b451",
   "metadata": {},
   "outputs": [],
   "source": [
    "for i in range(len(delauney)):\n",
    "    triangular_vertices = list(delauney[i].exterior.coords)\n",
    "\n",
    "    v1, v2, v3 = Vertex(), Vertex(), Vertex()\n",
    "\n",
    "    v1.x = triangular_vertices[0][0]\n",
    "    v1.y = triangular_vertices[0][1]\n",
    "    v1.z = -bevelRadius\n",
    "\n",
    "    v2.x = triangular_vertices[1][0]\n",
    "    v2.y = triangular_vertices[1][1]\n",
    "    v2.z = -bevelRadius\n",
    "\n",
    "    v3.x = triangular_vertices[2][0]\n",
    "    v3.y = triangular_vertices[2][1]\n",
    "    v3.z = -bevelRadius\n",
    "    \n",
    "    mesh.addTriangle(v1, v2, v3)\n",
    "    \n",
    "    v1, v2, v3 = Vertex(), Vertex(), Vertex()\n",
    "    \n",
    "    v1.x = triangular_vertices[0][0]\n",
    "    v1.y = triangular_vertices[0][1]\n",
    "    v1.z = bevelRadius + extrude\n",
    "\n",
    "    v2.x = triangular_vertices[1][0]\n",
    "    v2.y = triangular_vertices[1][1]\n",
    "    v2.z = bevelRadius + extrude\n",
    "\n",
    "    v3.x = triangular_vertices[2][0]\n",
    "    v3.y = triangular_vertices[2][1]\n",
    "    v3.z = bevelRadius + extrude\n",
    "    \n",
    "    mesh.addTriangle(v3, v2, v1) # pay attention to the order"
   ]
  },
  {
   "cell_type": "code",
   "execution_count": 26,
   "id": "8d2b5a50-44d4-478d-b686-2e9a95dda357",
   "metadata": {},
   "outputs": [],
   "source": [
    "mesh.saveOBJ(\"test0.obj\")"
   ]
  },
  {
   "cell_type": "code",
   "execution_count": null,
   "id": "6d4200d1-aa45-4962-8362-25f7928457fa",
   "metadata": {},
   "outputs": [],
   "source": []
  }
 ],
 "metadata": {
  "kernelspec": {
   "display_name": "Python (rlgpu)",
   "language": "python",
   "name": "rlgpu"
  },
  "language_info": {
   "codemirror_mode": {
    "name": "ipython",
    "version": 3
   },
   "file_extension": ".py",
   "mimetype": "text/x-python",
   "name": "python",
   "nbconvert_exporter": "python",
   "pygments_lexer": "ipython3",
   "version": "3.7.12"
  }
 },
 "nbformat": 4,
 "nbformat_minor": 5
}
